{
 "cells": [
  {
   "cell_type": "markdown",
   "metadata": {},
   "source": [
    "First of all, linear regression models come under the category of supervised learning algorithms of machine learning. For this blog lets consider a simple linear regression model. Simple linear regression models are used to find out the affect of one parameter on another parameter. For example, we want to find out if the price of a house is dependent on its area. \n",
    "\n",
    "Such info is best represented by a scatter plot. Our regression model tries to find a line that fits this plot best. For this the distance from the actual point to the point in line has to be overall minimum for the all points in the plot. This line has equation y=mx+c. m is the slope and c is the interept. We just write a three line code in python to get this line. Before implementing the model, one thing that has to be consistently added to our data is a clomun with the name= intercept and value =1. It might be confusing as to why this has to be specified and is it possible to assign this variable, a value other than 1.\n",
    "\n",
    "the answer lies in the OLS model definition which essentially is weight * predictor. y=b1*x1 + b0*1. \n",
    "\n",
    "we pass the 2 predictors and the OLS model finds the weight for it. \n",
    "\n",
    "TODO: ALso put the reason why this intercept cannot be zero. \n",
    "\n",
    "What does fitting mean : the distance of a point y on the scatter plot from the point y^ on the fitted line, for all the points is least."
   ]
  },
  {
   "cell_type": "markdown",
   "metadata": {},
   "source": [
    "## df[intercept]= 1 in linear regression models of python."
   ]
  },
  {
   "cell_type": "markdown",
   "metadata": {},
   "source": [
    "In a linear regression model we are trying to find the best fitted line for a scatter plot which is represented with general equation of a line\n",
    "\n",
    "$$ y= mx+c $$\n",
    "\n",
    "where, m is the slope and c is the intercept"
   ]
  },
  {
   "cell_type": "markdown",
   "metadata": {},
   "source": [
    "For example, I am trying to predict the price of a house on the basis of its area, then y is the price and x is the area of the house. In this context, m will be the change in the value of y when area is changed by a single unit. Our intercept c, is the value of house when it has no area at all. Now that we have our intewrpretations down, lets dive into some code."
   ]
  },
  {
   "cell_type": "markdown",
   "metadata": {},
   "source": [
    "To find the parameters 'm' and 'c' of the best fitted line, we write a simple three line code in python."
   ]
  },
  {
   "cell_type": "code",
   "execution_count": 2,
   "metadata": {},
   "outputs": [],
   "source": [
    "df['intercept'] = 1\n",
    "\n",
    "#performing linear regression\n",
    "lm = sm.OLS(df['Price'], df[['intercept','area']])\n",
    "results = lm.fit()\n",
    "results.summary()"
   ]
  },
  {
   "cell_type": "markdown",
   "metadata": {},
   "source": [
    "Note that we added a column 'intercept' to our data before performing linear regression and set its value to 1. This leads to certain questions:"
   ]
  },
  {
   "cell_type": "markdown",
   "metadata": {},
   "source": [
    "**Question 1: What if we skip this part the code?**"
   ]
  },
  {
   "cell_type": "markdown",
   "metadata": {},
   "source": [
    "Intercept is very important to model regression line. without intercept, we will force the line to always pass by the origin (0, 0), we will never get the relationship between price and area.\n",
    "\n",
    "Answer: Despite the fact that the intercept should be used, but in some cases you may need to skip it and use the model as y=Ax, Only In such cases you will have the option to skip initializing the intercept.\n",
    "You can skip using the intercept in rare cases, I don't know too much about such cases. but I copied some text from here that may be helpful\n",
    "never skip initializing the intercept, unless you are sure that your linear approximation of the data generating process (linear regression model) either by some theoretical or any other reasons is forced to go through the origin.\n",
    "In R language, intercept is included anyway without initialization.\n",
    "\n",
    "\n",
    "Kindly note the intercept is the mean of the response when all predictors are zero. You may wish to test that is this estimate is different from a specific hypothesized value and this does not have to be zero.\n",
    "\n",
    "In short: The intercept term relates to the prediction based on the fitted model, when all independent variables are set to zero. This prediction may be more or less good based on bias and noise."
   ]
  },
  {
   "cell_type": "markdown",
   "metadata": {},
   "source": [
    "**Question 2: Can we set this valuse to anything other than 1?**"
   ]
  },
  {
   "cell_type": "markdown",
   "metadata": {},
   "source": [
    "OLS will find \"weight * predictor\" for each term used in the regression. For the intercept, this would be equivalent to \"intercept * 1\".\n",
    "Explanation:\n",
    "If we go according to what you say, then we will not define an intercept variable, that is, we dont need an intercept column like this:\n",
    " 1\n",
    "df['intercept'] =1\n",
    "We expect OLS to find the value of intercept and populate the column but when we pass our values to OLS model like this:\n",
    " 1\n",
    "lm = sm.OLS(df['price'],df['area'])\n",
    "OLS will see the equation as:\n",
    "y = b1*x\n",
    "It will proceed to find b1 and leave out b0 because there is no other predictor given to it for which it will calculate the weight.\n",
    "Now consider we give OLS, the equation:\n",
    "y = b1*x + b0*1\n",
    "It now knows it has to find the value of both b1 and b0.\n",
    "Since we want the value of intercept as it is , we multiply it with 1, that is,\n",
    "[weight (= b0) * predictor( = 1)] suffices our need."
   ]
  }
 ],
 "metadata": {
  "kernelspec": {
   "display_name": "Python 3",
   "language": "python",
   "name": "python3"
  },
  "language_info": {
   "codemirror_mode": {
    "name": "ipython",
    "version": 3
   },
   "file_extension": ".py",
   "mimetype": "text/x-python",
   "name": "python",
   "nbconvert_exporter": "python",
   "pygments_lexer": "ipython3",
   "version": "3.7.6"
  }
 },
 "nbformat": 4,
 "nbformat_minor": 4
}
