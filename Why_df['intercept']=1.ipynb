{
 "cells": [
  {
   "cell_type": "markdown",
   "metadata": {},
   "source": [
    "## Why write df[intercept]= 1 in linear regression model of python?"
   ]
  },
  {
   "cell_type": "markdown",
   "metadata": {},
   "source": [
    "Linear regression is basic type of predictive analysis. In a linear regression model we are trying to find the best fitted line for a scatter plot and for simple linear regression the line is represented as\n",
    "\n",
    "$$ \\hat{y}= b1x+b0 $$\n",
    "\n",
    "where, b1 is the slope and b0 is the intercept"
   ]
  },
  {
   "attachments": {},
   "cell_type": "markdown",
   "metadata": {},
   "source": [
    "<img src=\"line_fitting.png\" style=\"float: center;\" width =\"400\" height=400 >"
   ]
  },
  {
   "cell_type": "markdown",
   "metadata": {},
   "source": [
    "Let's take an example where we want to predict the price of a house on the basis of how many bedrooms it has. Then the variable we want to predict, which is **price**, is represented by **y** and **x** is the no.of **bedrooms** in the house. In this context, the change in price, when one more bedrrom is added to the house, will be represented by value **b1**. Our intercept **b0**, is the value of the house when it has no bedrooms at all (you can crash in the bathtub). Now that we have our interpretations down, lets dive into some code."
   ]
  },
  {
   "cell_type": "markdown",
   "metadata": {},
   "source": [
    "To find value of the parameters **b1** and **b0** of the best fitted line, we write a simple three line code in python."
   ]
  },
  {
   "cell_type": "markdown",
   "metadata": {},
   "source": [
    "```python \n",
    "df['intercept'] = 1         # df is dataframe containing our data\n",
    "\n",
    "#performing linear regression\n",
    "lm = sm.OLS(df['Price'], df[['intercept','bedrooms']])\n",
    "results = lm.fit()\n",
    "results.summary()\n",
    "```"
   ]
  },
  {
   "cell_type": "markdown",
   "metadata": {},
   "source": [
    "Note here that we added a column 'intercept' to our data, before performing linear regression and set its value to 1, which might cause some confusion as to **why we have to write this exact same line of code everytime, before performing linear regression? What if I skip this line of code? What if intercept is set to a value other than 1?**"
   ]
  },
  {
   "cell_type": "markdown",
   "metadata": {},
   "source": [
    "**Explanation:**\n",
    "\n",
    "In the linear regression model, OLS finds **\"weight * predictor\"** for each term used in the regression. This means that if we skip intercept variable, which looks like this:\n",
    "\n",
    "```python \n",
    "lm = sm.OLS(df['price'],df['bedrooms'])\n",
    "```\n",
    "Then, OLS will see the equation as:\n",
    "\n",
    "$$y = b1*x$$\n",
    "\n",
    "OLS algorithm will now proceed to find b1 and leave out b0 because there is only one predictor **x** given to it for which it will calculate the weight **b1**. This way, without the intercept, the line is forced to always pass by the origin (0, 0) and we never get the predictive relationship we are seeking between price and the no.of bedrooms, as per the fitted model. So, it is often quoted that,initializing the intercept should never be skipped, unless there is gaurantee that the linear approximation of the linear regression model either by some theoretical or any other reasons is forced to go through the origin. \n",
    "\n",
    "Since we are now clear we want value of intercept **b0** , we add a column for it in our database. Now, OLS sees that we want value of **weight = b0** but then we also have to have a predictor for equation to be complete. Since we want the value of intercept unaltered, we simply multiply it by 1, that is, **weight (= b0) * predictor( = 1)** and it suffices our need. So, we give OLS, the equation:\n",
    "\n",
    "$$y = b1*x + b0*1$$\n",
    "\n",
    "Now, our linear regression model knows it has to find the value of both b1 and b0.\n",
    "\n",
    "\n",
    "Note: In R language, intercept is included anyway without initialization."
   ]
  }
 ],
 "metadata": {
  "kernelspec": {
   "display_name": "Python 3",
   "language": "python",
   "name": "python3"
  },
  "language_info": {
   "codemirror_mode": {
    "name": "ipython",
    "version": 3
   },
   "file_extension": ".py",
   "mimetype": "text/x-python",
   "name": "python",
   "nbconvert_exporter": "python",
   "pygments_lexer": "ipython3",
   "version": "3.7.6"
  }
 },
 "nbformat": 4,
 "nbformat_minor": 4
}
