{
 "cells": [
  {
   "cell_type": "markdown",
   "metadata": {},
   "source": [
    "## df[intercept]= 1 in linear regression model of python."
   ]
  },
  {
   "cell_type": "markdown",
   "metadata": {},
   "source": [
    "Linear regression is basic type of predictive analysis. In a linear regression model we are trying to find the best fitted line for a scatter plot and for a simple linear regression the fitted line is represented as\n",
    "\n",
    "$$ y= mx+c $$\n",
    "\n",
    "where, m is the slope and c is the intercept"
   ]
  },
  {
   "cell_type": "markdown",
   "metadata": {},
   "source": [
    "Let's take an example where we want to predict the price of a house on the basis of its area. Then the variable we want to predict, which is **price**, is represented by **y** and **x** is the **area** of the house. In this context, the change in price, when area of a house changes by a single unit, will be represented by value **m**. Our intercept c, is the value of house when it has no area at all (other...TODO ). Now that we have our interpretations down, lets dive into some code."
   ]
  },
  {
   "cell_type": "markdown",
   "metadata": {},
   "source": [
    "To find value of the parameters 'm' and 'c' of the best fitted line, we write a simple three line code in python."
   ]
  },
  {
   "cell_type": "code",
   "execution_count": 2,
   "metadata": {},
   "outputs": [],
   "source": [
    "df['intercept'] = 1\n",
    "\n",
    "#performing linear regression\n",
    "lm = sm.OLS(df['Price'], df[['intercept','area']])\n",
    "results = lm.fit()\n",
    "results.summary()"
   ]
  },
  {
   "cell_type": "markdown",
   "metadata": {},
   "source": [
    "Note that we added a column 'intercept' to our data before performing linear regression and set its value to 1, which might cause some confusion and the questions that occured to me were:"
   ]
  },
  {
   "cell_type": "markdown",
   "metadata": {},
   "source": [
    "**Question 1: What if we skip this part the code?**"
   ]
  },
  {
   "cell_type": "markdown",
   "metadata": {},
   "source": [
    "The intercept term relates to the prediction based on the fitted model, when all independent variables are set to zero. This prediction may be more or less good based on bias and noise.\n",
    "\n",
    "We know that intercept value will be equal to price of house when its area is zero. Intuitively we might think the price of house which does not exist (area=0) might have a price equal to zero but that might not be the case practically.\n",
    "Intercept is very important to linear regression model because without intercept, we will force the line to always pass by the origin (0, 0) and we will never get the relationship between price and area. So, initializing the intercept should never be skipped, unless you are sure that your linear approximation of the data generating process (linear regression model) either by some theoretical or any other reasons is forced to go through the origin. \n",
    "In R language, intercept is included anyway without initialization.\n",
    "\n",
    "\n",
    "Kindly note the intercept is the mean of the response when all predictors are zero. You may wish to test that is this estimate is different from a specific hypothesized value and this does not have to be zero.\n",
    "\n",
    "In short: The intercept term relates to the prediction based on the fitted model, when all independent variables are set to zero. This prediction may be more or less good based on bias and noise."
   ]
  },
  {
   "cell_type": "markdown",
   "metadata": {},
   "source": [
    "**Question 2: Can we set this value to anything other than 1?**"
   ]
  },
  {
   "cell_type": "markdown",
   "metadata": {},
   "source": [
    "OLS will find \"weight * predictor\" for each term used in the regression. For the intercept, this would be equivalent to \"intercept * 1\".\n",
    "Explanation:\n",
    "If we go according to what you say, then we will not define an intercept variable, that is, we dont need an intercept column like this:\n",
    " 1\n",
    "df['intercept'] =1\n",
    "We expect OLS to find the value of intercept and populate the column but when we pass our values to OLS model like this:\n",
    " 1\n",
    "lm = sm.OLS(df['price'],df['area'])\n",
    "OLS will see the equation as:\n",
    "y = b1*x\n",
    "It will proceed to find b1 and leave out b0 because there is no other predictor given to it for which it will calculate the weight.\n",
    "Now consider we give OLS, the equation:\n",
    "y = b1*x + b0*1\n",
    "It now knows it has to find the value of both b1 and b0.\n",
    "Since we want the value of intercept as it is , we multiply it with 1, that is,\n",
    "[weight (= b0) * predictor( = 1)] suffices our need."
   ]
  }
 ],
 "metadata": {
  "kernelspec": {
   "display_name": "Python 3",
   "language": "python",
   "name": "python3"
  },
  "language_info": {
   "codemirror_mode": {
    "name": "ipython",
    "version": 3
   },
   "file_extension": ".py",
   "mimetype": "text/x-python",
   "name": "python",
   "nbconvert_exporter": "python",
   "pygments_lexer": "ipython3",
   "version": "3.7.6"
  }
 },
 "nbformat": 4,
 "nbformat_minor": 4
}
