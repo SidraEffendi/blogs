{
 "cells": [
  {
   "cell_type": "markdown",
   "metadata": {},
   "source": [
    "## df[intercept]= 1 in linear regression model of python."
   ]
  },
  {
   "cell_type": "markdown",
   "metadata": {},
   "source": [
    "Linear regression is basic type of predictive analysis. In a linear regression model we are trying to find the best fitted line for a scatter plot and for simple linear regression the line is represented as\n",
    "\n",
    "$$ y= b1x+b0 $$\n",
    "\n",
    "where, b1 is the slope and b0 is the intercept"
   ]
  },
  {
   "cell_type": "markdown",
   "metadata": {},
   "source": [
    "Let's take an example where we want to predict the price of a house on the basis of its area. Then the variable we want to predict, which is **price**, is represented by **y** and **x** is the **area** of the house. In this context, the change in price, when area of a house changes by a single unit, will be represented by value **b1**. Our intercept **b0**, is the value of house when it has no area at all (other...TODO ). Now that we have our interpretations down, lets dive into some code."
   ]
  },
  {
   "cell_type": "markdown",
   "metadata": {},
   "source": [
    "To find value of the parameters 'm' and 'c' of the best fitted line, we write a simple three line code in python."
   ]
  },
  {
   "cell_type": "markdown",
   "metadata": {},
   "source": [
    "```python \n",
    "df['intercept'] = 1         # df is dataframe of the database\n",
    "\n",
    "#performing linear regression\n",
    "lm = sm.OLS(df['Price'], df[['intercept','area']])\n",
    "results = lm.fit()\n",
    "results.summary()\n",
    "```"
   ]
  },
  {
   "cell_type": "markdown",
   "metadata": {},
   "source": [
    "Note that we added a column 'intercept' to our data before performing linear regression and set its value to 1, which might cause some confusion as to **why we have to write this exact same line of code everytime, before performing linear regression? What if I skip this line of code? What if intercept value is set to other than 1?**"
   ]
  },
  {
   "cell_type": "markdown",
   "metadata": {},
   "source": [
    "**Explanation:**\n",
    "\n",
    "In the linear regression model, OLS finds \"weight * predictor\" for each term used in the regression. If we do not define an intercept variable, we pass our values to OLS model like this:\n",
    "\n",
    "```python \n",
    "lm = sm.OLS(df['price'],df['area'])\n",
    "```\n",
    "Therefore, OLS will see the equation as:\n",
    "\n",
    "$$y = b1*x$$\n",
    "\n",
    "It will proceed to find b1 and leave out b0 because there is no other predictor given to it for which it will calculate the weight. Without intercept, we are forcing the line to always pass by the origin (0, 0) and we will never get the predictive relationship we are seeking between price and area as per the fitted model. So, initializing the intercept should never be skipped, unless there is gaurantee that the linear approximation of the linear regression model either by some theoretical or any other reasons is forced to go through the origin. \n",
    "\n",
    "Since we want the value of intercept as it is , we multiply it with 1, that is, **weight (= b0) * predictor( = 1)** which suffices our need. So, we give OLS, the equation:\n",
    "\n",
    "$$y = b1*x + b0*1$$\n",
    "\n",
    "Now our linear regression model knows it has to find the value of both b1 and b0.\n",
    "\n",
    "\n",
    "Note: In R language, intercept is included anyway without initialization."
   ]
  },
  {
   "cell_type": "code",
   "execution_count": null,
   "metadata": {},
   "outputs": [],
   "source": []
  },
  {
   "cell_type": "code",
   "execution_count": null,
   "metadata": {},
   "outputs": [],
   "source": []
  },
  {
   "cell_type": "code",
   "execution_count": null,
   "metadata": {},
   "outputs": [],
   "source": []
  },
  {
   "cell_type": "code",
   "execution_count": null,
   "metadata": {},
   "outputs": [],
   "source": []
  },
  {
   "cell_type": "markdown",
   "metadata": {},
   "source": [
    "**Question 1: What if the intercept column is not added to the database?**"
   ]
  },
  {
   "cell_type": "markdown",
   "metadata": {},
   "source": [
    "**Explanation 1:**\n",
    "\n",
    "We know that intercept value for our example, is the price of house when its area is zero. Intuitively, we might think the price of house which does not exist (area=0) will be equal to zero but that might not be the case as per the prediction based on the fitted model. This prediction may be more or less good based on bias and noise. \n",
    "\n",
    "Without intercept, we will force the line to always pass by the origin (0, 0) and we will never get the relationship between price and area. So, initializing the intercept should never be skipped, unless you are sure that your linear approximation of the linear regression model either by some theoretical or any other reasons is forced to go through the origin. \n",
    "\n",
    "Note: In R language, intercept is included anyway without initialization.\n",
    "\n",
    "**Explanation 2:**\n",
    "\n",
    "In the linear regression model, OLS finds \"weight * predictor\" for each term used in the regression. If we do not define an intercept variable, we pass our values to OLS model like this:\n",
    "\n",
    "```python \n",
    "lm = sm.OLS(df['price'],df['area'])\n",
    "```\n",
    "OLS will see the equation as:\n",
    "\n",
    "$$y = b1*x$$\n",
    "\n",
    "It will proceed to find b1 and leave out b0 because there is no other predictor given to it for which it will calculate the weight.\n",
    "\n",
    "Now consider we give OLS, the equation:\n",
    "\n",
    "$$y = b1*x + b0*1$$\n",
    "\n",
    "It now knows it has to find the value of both b1 and b0."
   ]
  },
  {
   "cell_type": "markdown",
   "metadata": {},
   "source": [
    "**Question 2: Can we set intercept value to anything other than 1?**"
   ]
  },
  {
   "cell_type": "markdown",
   "metadata": {},
   "source": [
    "\n",
    "For the intercept, this would be equivalent to \"intercept * 1\".\n",
    "\n",
    "Since we want the value of intercept as it is , we multiply it with 1, that is,[weight (= b0) * predictor( = 1)] which suffices our need."
   ]
  },
  {
   "cell_type": "code",
   "execution_count": null,
   "metadata": {},
   "outputs": [],
   "source": []
  }
 ],
 "metadata": {
  "kernelspec": {
   "display_name": "Python 3",
   "language": "python",
   "name": "python3"
  },
  "language_info": {
   "codemirror_mode": {
    "name": "ipython",
    "version": 3
   },
   "file_extension": ".py",
   "mimetype": "text/x-python",
   "name": "python",
   "nbconvert_exporter": "python",
   "pygments_lexer": "ipython3",
   "version": "3.7.6"
  }
 },
 "nbformat": 4,
 "nbformat_minor": 4
}
